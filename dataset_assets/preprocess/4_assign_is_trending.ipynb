{
 "cells": [
  {
   "cell_type": "code",
   "execution_count": 1,
   "metadata": {},
   "outputs": [],
   "source": [
    "import pandas as pd\n",
    "import json\n",
    "import os"
   ]
  },
  {
   "cell_type": "markdown",
   "metadata": {},
   "source": [
    "After cleaning the channel dataset, we will now assign `isTrending` to it"
   ]
  },
  {
   "cell_type": "code",
   "execution_count": 2,
   "metadata": {},
   "outputs": [],
   "source": [
    "trending_file_path = 'C:/Users/TKN/Downloads/New-Youtube-Scraper-v3/data/yt_processed_data/processed_US_trending_data.json'\n",
    "channel_videos_file_path = 'C:/Users/TKN/Downloads/New-Youtube-Scraper-v3/data/yt_processed_data/processed_channel_videos.json'\n",
    "with open(trending_file_path, \"r\", encoding=\"utf-8\") as f:\n",
    "    trending_videos = json.load(f)\n",
    "    \n",
    "with open(channel_videos_file_path, \"r\", encoding=\"utf-8\") as f:\n",
    "    channel_videos = json.load(f)\n",
    "\n",
    "trending_df = pd.DataFrame.from_dict(trending_videos, orient=\"index\")\n",
    "channel_df = pd.DataFrame.from_dict(channel_videos, orient=\"index\")"
   ]
  },
  {
   "cell_type": "code",
   "execution_count": 3,
   "metadata": {},
   "outputs": [
    {
     "name": "stdout",
     "output_type": "stream",
     "text": [
      "<class 'pandas.core.frame.DataFrame'>\n",
      "Index: 14744 entries, V0CniCFbxLs to 9Nx849WhPFc\n",
      "Data columns (total 17 columns):\n",
      " #   Column           Non-Null Count  Dtype  \n",
      "---  ------           --------------  -----  \n",
      " 0   fetchedDate      14744 non-null  object \n",
      " 1   publishedAt      14744 non-null  object \n",
      " 2   elapsedDays      14744 non-null  float64\n",
      " 3   title            14744 non-null  object \n",
      " 4   description      14744 non-null  object \n",
      " 5   channelTitle     14744 non-null  object \n",
      " 6   tags             11772 non-null  object \n",
      " 7   category         14744 non-null  object \n",
      " 8   duration         14744 non-null  object \n",
      " 9   licensedContent  14744 non-null  bool   \n",
      " 10  viewCount        14744 non-null  int64  \n",
      " 11  avgDailyViews    14744 non-null  float64\n",
      " 12  likeCount        14744 non-null  int64  \n",
      " 13  commentCount     14744 non-null  int64  \n",
      " 14  engagementRate   14744 non-null  float64\n",
      " 15  topicCategories  14744 non-null  object \n",
      " 16  isTrending       14744 non-null  int64  \n",
      "dtypes: bool(1), float64(3), int64(4), object(9)\n",
      "memory usage: 1.9+ MB\n"
     ]
    }
   ],
   "source": [
    "channel_df.info()"
   ]
  },
  {
   "cell_type": "markdown",
   "metadata": {},
   "source": [
    "Separate `isTrending = 1` rows from `isTrending = 0` from the channel video dataset. Rows with `isTrending = 1` will join trending dataset as trending videos."
   ]
  },
  {
   "cell_type": "code",
   "execution_count": null,
   "metadata": {},
   "outputs": [
    {
     "name": "stdout",
     "output_type": "stream",
     "text": [
      "108\n",
      "Trending videos:\n",
      "613\n",
      "\n",
      "Not Trending videos:\n",
      "14131\n"
     ]
    }
   ],
   "source": [
    "print(trending_df.shape[0])\n",
    "\n",
    "channel_df_trending = channel_df[channel_df['isTrending'] == 1]\n",
    "channel_df_not_trending = channel_df[channel_df['isTrending'] == 0]\n",
    "\n",
    "print(\"Trending videos:\")\n",
    "print(channel_df_trending.shape[0])\n",
    "\n",
    "print(\"\\nNot Trending videos:\")\n",
    "print(channel_df_not_trending.shape[0])"
   ]
  },
  {
   "cell_type": "code",
   "execution_count": 5,
   "metadata": {},
   "outputs": [
    {
     "name": "stdout",
     "output_type": "stream",
     "text": [
      "721\n"
     ]
    }
   ],
   "source": [
    "# Convert any list columns to strings to avoid unhashable type errors\n",
    "\n",
    "trending_df = pd.concat([channel_df_trending, trending_df], ignore_index=True)\n",
    "'''\n",
    "For dropping duplicate rows in trending_df, but there are no duplicate rows. We will keep this here for reference\n",
    "for col in trending_df.columns:\n",
    "\tif trending_df[col].apply(lambda x: isinstance(x, list)).any():\n",
    "\t\ttrending_df[col] = trending_df[col].apply(lambda x: json.dumps(x) if isinstance(x, list) else x)\n",
    "trending_df.drop_duplicates(inplace=True)\n",
    "'''\n",
    "print(trending_df.shape[0])"
   ]
  },
  {
   "cell_type": "markdown",
   "metadata": {},
   "source": [
    "Drop duplicate videos (the trending videos and the channel videos are obtained on different days)"
   ]
  },
  {
   "cell_type": "code",
   "execution_count": 6,
   "metadata": {},
   "outputs": [
    {
     "name": "stdout",
     "output_type": "stream",
     "text": [
      "<class 'pandas.core.frame.DataFrame'>\n",
      "Index: 651 entries, 125 to 640\n",
      "Data columns (total 17 columns):\n",
      " #   Column           Non-Null Count  Dtype  \n",
      "---  ------           --------------  -----  \n",
      " 0   fetchedDate      651 non-null    object \n",
      " 1   publishedAt      651 non-null    object \n",
      " 2   elapsedDays      651 non-null    float64\n",
      " 3   title            651 non-null    object \n",
      " 4   description      651 non-null    object \n",
      " 5   channelTitle     651 non-null    object \n",
      " 6   tags             444 non-null    object \n",
      " 7   category         651 non-null    object \n",
      " 8   duration         651 non-null    object \n",
      " 9   licensedContent  651 non-null    bool   \n",
      " 10  viewCount        651 non-null    int64  \n",
      " 11  avgDailyViews    651 non-null    float64\n",
      " 12  likeCount        651 non-null    int64  \n",
      " 13  commentCount     651 non-null    int64  \n",
      " 14  engagementRate   651 non-null    float64\n",
      " 15  topicCategories  651 non-null    object \n",
      " 16  isTrending       651 non-null    int64  \n",
      "dtypes: bool(1), float64(3), int64(4), object(9)\n",
      "memory usage: 87.1+ KB\n"
     ]
    }
   ],
   "source": [
    "trending_df = trending_df.sort_values(by='viewCount', ascending=False).drop_duplicates(subset=['publishedAt', 'title'], keep='first')\n",
    "trending_df.info()"
   ]
  },
  {
   "cell_type": "markdown",
   "metadata": {},
   "source": [
    "#### Assigning trending percentile (depreciated)\n",
    "\n",
    "We now have 2 datasets\n",
    "\n",
    "`trending_df` contains all videos that has `isTrending` = `1` after cleaning + assigning\n",
    "\n",
    "`channel_df_not_trending` contains all videos with `isTrending` = 0 after cleaning + assigning\n",
    "\n",
    "`trending_df` will be assigned `trendingPercentile` as follows:\n",
    "\n",
    "`trendingPercentile`: If a video is on Trending, which percentile will it belong. We will order the dataset by `avgDailyViews`, then `viewCount`, `likeCount` and `commentCount` (the major indicator of Trending videos), bin the dataset into 10 parts, then assign 10 different percentiles, from `0.05` (top 95%) to `0.95` (top 5%)"
   ]
  },
  {
   "cell_type": "code",
   "execution_count": 7,
   "metadata": {},
   "outputs": [],
   "source": [
    "# trending_df = trending_df.sort_values(\n",
    "#     by=['avgDailyViews', 'viewCount', 'likeCount', 'commentCount'], \n",
    "#     ascending=[False, False, False, False]\n",
    "# ).reset_index(drop=True)"
   ]
  },
  {
   "cell_type": "code",
   "execution_count": 8,
   "metadata": {},
   "outputs": [],
   "source": [
    "# trending_df['trendingPercentile'] = pd.cut(\n",
    "#     trending_df.index,\n",
    "#     10, \n",
    "#     labels=[0.05, 0.15, 0.25, 0.35, 0.45, 0.55, 0.65, 0.75, 0.85, 0.95], \n",
    "#     include_lowest=True\n",
    "# ).astype(float)"
   ]
  },
  {
   "cell_type": "markdown",
   "metadata": {},
   "source": [
    "Save the significant stats for visualization tasks"
   ]
  },
  {
   "cell_type": "code",
   "execution_count": 9,
   "metadata": {},
   "outputs": [
    {
     "name": "stdout",
     "output_type": "stream",
     "text": [
      "<class 'pandas.core.frame.DataFrame'>\n",
      "Index: 651 entries, 125 to 640\n",
      "Data columns (total 14 columns):\n",
      " #   Column           Non-Null Count  Dtype  \n",
      "---  ------           --------------  -----  \n",
      " 0   publishedAt      651 non-null    object \n",
      " 1   elapsedDays      651 non-null    float64\n",
      " 2   title            651 non-null    object \n",
      " 3   channelTitle     651 non-null    object \n",
      " 4   category         651 non-null    object \n",
      " 5   topicCategories  651 non-null    object \n",
      " 6   duration         651 non-null    object \n",
      " 7   licensedContent  651 non-null    bool   \n",
      " 8   viewCount        651 non-null    int64  \n",
      " 9   likeCount        651 non-null    int64  \n",
      " 10  commentCount     651 non-null    int64  \n",
      " 11  avgDailyViews    651 non-null    float64\n",
      " 12  engagementRate   651 non-null    float64\n",
      " 13  isTrending       651 non-null    int64  \n",
      "dtypes: bool(1), float64(3), int64(4), object(6)\n",
      "memory usage: 71.8+ KB\n"
     ]
    }
   ],
   "source": [
    "trending_df_viz = trending_df[['publishedAt','elapsedDays', 'title', 'channelTitle', \n",
    "                           'category','topicCategories', 'duration', 'licensedContent',\n",
    "                           'viewCount', 'likeCount', 'commentCount', 'avgDailyViews',\n",
    "                           'engagementRate', 'isTrending']]\n",
    "trending_df_viz.info()\n",
    "# trending_df_viz.to_csv('C:/Users/TKN/Downloads/New-Youtube-Scraper-v3/data/visualization_csvs/trending_data_viz.csv', index=False)"
   ]
  },
  {
   "cell_type": "code",
   "execution_count": 10,
   "metadata": {},
   "outputs": [
    {
     "name": "stdout",
     "output_type": "stream",
     "text": [
      "<class 'pandas.core.frame.DataFrame'>\n",
      "Index: 14131 entries, V0CniCFbxLs to 9Nx849WhPFc\n",
      "Data columns (total 14 columns):\n",
      " #   Column           Non-Null Count  Dtype  \n",
      "---  ------           --------------  -----  \n",
      " 0   publishedAt      14131 non-null  object \n",
      " 1   elapsedDays      14131 non-null  float64\n",
      " 2   title            14131 non-null  object \n",
      " 3   channelTitle     14131 non-null  object \n",
      " 4   category         14131 non-null  object \n",
      " 5   topicCategories  14131 non-null  object \n",
      " 6   duration         14131 non-null  object \n",
      " 7   licensedContent  14131 non-null  bool   \n",
      " 8   viewCount        14131 non-null  int64  \n",
      " 9   likeCount        14131 non-null  int64  \n",
      " 10  commentCount     14131 non-null  int64  \n",
      " 11  avgDailyViews    14131 non-null  float64\n",
      " 12  engagementRate   14131 non-null  float64\n",
      " 13  isTrending       14131 non-null  int64  \n",
      "dtypes: bool(1), float64(3), int64(4), object(6)\n",
      "memory usage: 1.5+ MB\n"
     ]
    }
   ],
   "source": [
    "channel_df_viz = channel_df_not_trending[['publishedAt','elapsedDays', 'title', 'channelTitle', \n",
    "                           'category','topicCategories', 'duration', 'licensedContent',\n",
    "                           'viewCount', 'likeCount', 'commentCount', 'avgDailyViews',\n",
    "                           'engagementRate', 'isTrending']] # No trending so don't include\n",
    "channel_df_viz.info()\n",
    "# channel_df_viz.to_csv('C:/Users/TKN/Downloads/New-Youtube-Scraper-v3/data/visualization_csvs/channel_video_data_viz.csv', index=False)"
   ]
  },
  {
   "cell_type": "code",
   "execution_count": 11,
   "metadata": {},
   "outputs": [],
   "source": [
    "# def save_dfs_to_json(dfs, filenames, output_dir):\n",
    "#     for df, filename in zip(dfs, filenames):\n",
    "#         json_data = df.to_json(orient=\"index\", force_ascii=False, indent=4)\n",
    "#         with open(os.path.join(output_dir, filename), \"w\", encoding=\"utf-8\") as f:\n",
    "#             f.write(json_data)\n",
    "#         print(f\"DataFrame saved to {os.path.join(output_dir, filename)}\")\n",
    "\n",
    "# # Example usage:\n",
    "# dfs = [trending_df, channel_df_not_trending]\n",
    "# filenames = [\"cleaned_US_trending_data.json\", \"cleaned_channel_videos.json\"]\n",
    "# output_dir = 'C:/Users/TKN/Downloads/New-Youtube-Scraper-v3/data/yt_processed_data_step_2'\n",
    "# save_dfs_to_json(dfs, filenames, output_dir)"
   ]
  }
 ],
 "metadata": {
  "kernelspec": {
   "display_name": "Python 3",
   "language": "python",
   "name": "python3"
  },
  "language_info": {
   "codemirror_mode": {
    "name": "ipython",
    "version": 3
   },
   "file_extension": ".py",
   "mimetype": "text/x-python",
   "name": "python",
   "nbconvert_exporter": "python",
   "pygments_lexer": "ipython3",
   "version": "3.12.6"
  }
 },
 "nbformat": 4,
 "nbformat_minor": 2
}
