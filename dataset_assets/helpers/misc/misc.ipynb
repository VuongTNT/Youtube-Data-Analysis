{
 "cells": [
  {
   "cell_type": "code",
   "execution_count": null,
   "metadata": {},
   "outputs": [],
   "source": [
    "import json\n",
    "import pandas as pd\n",
    "\n",
    "file_path = 'C:/Users/TKN/Downloads/New-Youtube-Scraper-v3/data/yt_processed_data_step_2/cleaned_US_trending_data_mrbeast.json'\n",
    "\n",
    "with open(file_path, \"r\", encoding=\"utf-8\") as f:\n",
    "    videos = json.load(f)\n",
    "    \n",
    "df = pd.DataFrame.from_dict(videos, orient=\"index\")\n",
    "\n",
    "df = df.sort_values(by='viewCount', ascending=False).drop_duplicates(subset=['publishedAt', 'title'], keep='first')\n",
    "df.info()\n",
    "\n",
    "df = df[['publishedAt','elapsedDays', 'title', 'channelTitle', \n",
    "        'category','topicCategories', 'duration', 'licensedContent',\n",
    "        'viewCount', 'likeCount', 'commentCount', 'avgDailyViews',\n",
    "        'engagementRate', 'isTrending', 'trendingPercentile']]\n",
    "\n",
    "df.to_csv('C:/Users/TKN/Downloads/New-Youtube-Scraper-v3/data/visualization_csvs/trending_data_viz_mrbeast.csv', index=False)"
   ]
  },
  {
   "cell_type": "code",
   "execution_count": 3,
   "metadata": {},
   "outputs": [],
   "source": [
    "import os\n",
    "import pandas as pd\n",
    "\n",
    "# Specify the directory containing the CSV files\n",
    "directory = 'C:/Users/TKN/Downloads/New-Youtube-Scraper-v3/data/visualization_csvs/'\n",
    "\n",
    "# Specify the two CSV files to concatenate\n",
    "csv_files = ['trending_data_viz.csv', 'channel_video_data_viz.csv']  # Replace 'another_file.csv' with the actual file name\n",
    "\n",
    "# Read and concatenate the two CSV files\n",
    "df_list = [pd.read_csv(os.path.join(directory, file)) for file in csv_files]\n",
    "concatenated_df = pd.concat(df_list, ignore_index=True)\n",
    "\n",
    "# Export the concatenated dataframe to the specified directory\n",
    "output_file_path = os.path.join(directory, 'all_necessary_video_data.csv')\n",
    "concatenated_df.to_csv(output_file_path, index=False)"
   ]
  }
 ],
 "metadata": {
  "kernelspec": {
   "display_name": "Python 3",
   "language": "python",
   "name": "python3"
  },
  "language_info": {
   "codemirror_mode": {
    "name": "ipython",
    "version": 3
   },
   "file_extension": ".py",
   "mimetype": "text/x-python",
   "name": "python",
   "nbconvert_exporter": "python",
   "pygments_lexer": "ipython3",
   "version": "3.12.6"
  }
 },
 "nbformat": 4,
 "nbformat_minor": 2
}
